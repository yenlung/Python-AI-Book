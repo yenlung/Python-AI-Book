{
  "nbformat": 4,
  "nbformat_minor": 0,
  "metadata": {
    "anaconda-cloud": {},
    "colab": {
      "provenance": [],
      "collapsed_sections": [
        "fOPj5Mh50Avk",
        "mQmajlcm0Avl",
        "m41UZZdF0Avm",
        "5znBU0DV0Avo",
        "kV3613iy0Avp"
      ],
      "include_colab_link": true
    },
    "kernelspec": {
      "display_name": "Python 3",
      "name": "python3"
    },
    "language_info": {
      "name": "python"
    },
    "widgets": {
      "application/vnd.jupyter.widget-state+json": {
        "d75f02293e4b49258dca50ad6a9ca227": {
          "model_module": "@jupyter-widgets/controls",
          "model_name": "VBoxModel",
          "model_module_version": "1.5.0",
          "state": {
            "_dom_classes": [
              "widget-interact"
            ],
            "_model_module": "@jupyter-widgets/controls",
            "_model_module_version": "1.5.0",
            "_model_name": "VBoxModel",
            "_view_count": null,
            "_view_module": "@jupyter-widgets/controls",
            "_view_module_version": "1.5.0",
            "_view_name": "VBoxView",
            "box_style": "",
            "children": [
              "IPY_MODEL_8f415e7128e54ebc9b39aa5f1cb3fd93",
              "IPY_MODEL_5be852ce0e204fb5b279cd5a976dd423",
              "IPY_MODEL_db80133136dd410ea24ae0c3b94d1c6d"
            ],
            "layout": "IPY_MODEL_8793ee54bf8349fdb06d5deb24331e15"
          }
        },
        "8f415e7128e54ebc9b39aa5f1cb3fd93": {
          "model_module": "@jupyter-widgets/controls",
          "model_name": "IntSliderModel",
          "model_module_version": "1.5.0",
          "state": {
            "_dom_classes": [],
            "_model_module": "@jupyter-widgets/controls",
            "_model_module_version": "1.5.0",
            "_model_name": "IntSliderModel",
            "_view_count": null,
            "_view_module": "@jupyter-widgets/controls",
            "_view_module_version": "1.5.0",
            "_view_name": "IntSliderView",
            "continuous_update": true,
            "description": "n",
            "description_tooltip": null,
            "disabled": false,
            "layout": "IPY_MODEL_6fc7eba33bd249049864b7e2290efb63",
            "max": 59999,
            "min": 0,
            "orientation": "horizontal",
            "readout": true,
            "readout_format": "d",
            "step": 1,
            "style": "IPY_MODEL_d709cce384d94eefb9ce3f45eff377c9",
            "value": 0
          }
        },
        "5be852ce0e204fb5b279cd5a976dd423": {
          "model_module": "@jupyter-widgets/controls",
          "model_name": "ButtonModel",
          "model_module_version": "1.5.0",
          "state": {
            "_dom_classes": [],
            "_model_module": "@jupyter-widgets/controls",
            "_model_module_version": "1.5.0",
            "_model_name": "ButtonModel",
            "_view_count": null,
            "_view_module": "@jupyter-widgets/controls",
            "_view_module_version": "1.5.0",
            "_view_name": "ButtonView",
            "button_style": "",
            "description": "Run Interact",
            "disabled": false,
            "icon": "",
            "layout": "IPY_MODEL_39974c8f10b24607800c0afda068be51",
            "style": "IPY_MODEL_6cf91017288249f9b23eea4df9022020",
            "tooltip": ""
          }
        },
        "db80133136dd410ea24ae0c3b94d1c6d": {
          "model_module": "@jupyter-widgets/output",
          "model_name": "OutputModel",
          "model_module_version": "1.0.0",
          "state": {
            "_dom_classes": [],
            "_model_module": "@jupyter-widgets/output",
            "_model_module_version": "1.0.0",
            "_model_name": "OutputModel",
            "_view_count": null,
            "_view_module": "@jupyter-widgets/output",
            "_view_module_version": "1.0.0",
            "_view_name": "OutputView",
            "layout": "IPY_MODEL_d2cc7c151dff492796edf9ce6e5726de",
            "msg_id": "",
            "outputs": []
          }
        },
        "8793ee54bf8349fdb06d5deb24331e15": {
          "model_module": "@jupyter-widgets/base",
          "model_name": "LayoutModel",
          "model_module_version": "1.2.0",
          "state": {
            "_model_module": "@jupyter-widgets/base",
            "_model_module_version": "1.2.0",
            "_model_name": "LayoutModel",
            "_view_count": null,
            "_view_module": "@jupyter-widgets/base",
            "_view_module_version": "1.2.0",
            "_view_name": "LayoutView",
            "align_content": null,
            "align_items": null,
            "align_self": null,
            "border": null,
            "bottom": null,
            "display": null,
            "flex": null,
            "flex_flow": null,
            "grid_area": null,
            "grid_auto_columns": null,
            "grid_auto_flow": null,
            "grid_auto_rows": null,
            "grid_column": null,
            "grid_gap": null,
            "grid_row": null,
            "grid_template_areas": null,
            "grid_template_columns": null,
            "grid_template_rows": null,
            "height": null,
            "justify_content": null,
            "justify_items": null,
            "left": null,
            "margin": null,
            "max_height": null,
            "max_width": null,
            "min_height": null,
            "min_width": null,
            "object_fit": null,
            "object_position": null,
            "order": null,
            "overflow": null,
            "overflow_x": null,
            "overflow_y": null,
            "padding": null,
            "right": null,
            "top": null,
            "visibility": null,
            "width": null
          }
        },
        "6fc7eba33bd249049864b7e2290efb63": {
          "model_module": "@jupyter-widgets/base",
          "model_name": "LayoutModel",
          "model_module_version": "1.2.0",
          "state": {
            "_model_module": "@jupyter-widgets/base",
            "_model_module_version": "1.2.0",
            "_model_name": "LayoutModel",
            "_view_count": null,
            "_view_module": "@jupyter-widgets/base",
            "_view_module_version": "1.2.0",
            "_view_name": "LayoutView",
            "align_content": null,
            "align_items": null,
            "align_self": null,
            "border": null,
            "bottom": null,
            "display": null,
            "flex": null,
            "flex_flow": null,
            "grid_area": null,
            "grid_auto_columns": null,
            "grid_auto_flow": null,
            "grid_auto_rows": null,
            "grid_column": null,
            "grid_gap": null,
            "grid_row": null,
            "grid_template_areas": null,
            "grid_template_columns": null,
            "grid_template_rows": null,
            "height": null,
            "justify_content": null,
            "justify_items": null,
            "left": null,
            "margin": null,
            "max_height": null,
            "max_width": null,
            "min_height": null,
            "min_width": null,
            "object_fit": null,
            "object_position": null,
            "order": null,
            "overflow": null,
            "overflow_x": null,
            "overflow_y": null,
            "padding": null,
            "right": null,
            "top": null,
            "visibility": null,
            "width": null
          }
        },
        "d709cce384d94eefb9ce3f45eff377c9": {
          "model_module": "@jupyter-widgets/controls",
          "model_name": "SliderStyleModel",
          "model_module_version": "1.5.0",
          "state": {
            "_model_module": "@jupyter-widgets/controls",
            "_model_module_version": "1.5.0",
            "_model_name": "SliderStyleModel",
            "_view_count": null,
            "_view_module": "@jupyter-widgets/base",
            "_view_module_version": "1.2.0",
            "_view_name": "StyleView",
            "description_width": "",
            "handle_color": null
          }
        },
        "39974c8f10b24607800c0afda068be51": {
          "model_module": "@jupyter-widgets/base",
          "model_name": "LayoutModel",
          "model_module_version": "1.2.0",
          "state": {
            "_model_module": "@jupyter-widgets/base",
            "_model_module_version": "1.2.0",
            "_model_name": "LayoutModel",
            "_view_count": null,
            "_view_module": "@jupyter-widgets/base",
            "_view_module_version": "1.2.0",
            "_view_name": "LayoutView",
            "align_content": null,
            "align_items": null,
            "align_self": null,
            "border": null,
            "bottom": null,
            "display": null,
            "flex": null,
            "flex_flow": null,
            "grid_area": null,
            "grid_auto_columns": null,
            "grid_auto_flow": null,
            "grid_auto_rows": null,
            "grid_column": null,
            "grid_gap": null,
            "grid_row": null,
            "grid_template_areas": null,
            "grid_template_columns": null,
            "grid_template_rows": null,
            "height": null,
            "justify_content": null,
            "justify_items": null,
            "left": null,
            "margin": null,
            "max_height": null,
            "max_width": null,
            "min_height": null,
            "min_width": null,
            "object_fit": null,
            "object_position": null,
            "order": null,
            "overflow": null,
            "overflow_x": null,
            "overflow_y": null,
            "padding": null,
            "right": null,
            "top": null,
            "visibility": null,
            "width": null
          }
        },
        "6cf91017288249f9b23eea4df9022020": {
          "model_module": "@jupyter-widgets/controls",
          "model_name": "ButtonStyleModel",
          "model_module_version": "1.5.0",
          "state": {
            "_model_module": "@jupyter-widgets/controls",
            "_model_module_version": "1.5.0",
            "_model_name": "ButtonStyleModel",
            "_view_count": null,
            "_view_module": "@jupyter-widgets/base",
            "_view_module_version": "1.2.0",
            "_view_name": "StyleView",
            "button_color": null,
            "font_weight": ""
          }
        },
        "d2cc7c151dff492796edf9ce6e5726de": {
          "model_module": "@jupyter-widgets/base",
          "model_name": "LayoutModel",
          "model_module_version": "1.2.0",
          "state": {
            "_model_module": "@jupyter-widgets/base",
            "_model_module_version": "1.2.0",
            "_model_name": "LayoutModel",
            "_view_count": null,
            "_view_module": "@jupyter-widgets/base",
            "_view_module_version": "1.2.0",
            "_view_name": "LayoutView",
            "align_content": null,
            "align_items": null,
            "align_self": null,
            "border": null,
            "bottom": null,
            "display": null,
            "flex": null,
            "flex_flow": null,
            "grid_area": null,
            "grid_auto_columns": null,
            "grid_auto_flow": null,
            "grid_auto_rows": null,
            "grid_column": null,
            "grid_gap": null,
            "grid_row": null,
            "grid_template_areas": null,
            "grid_template_columns": null,
            "grid_template_rows": null,
            "height": null,
            "justify_content": null,
            "justify_items": null,
            "left": null,
            "margin": null,
            "max_height": null,
            "max_width": null,
            "min_height": null,
            "min_width": null,
            "object_fit": null,
            "object_position": null,
            "order": null,
            "overflow": null,
            "overflow_x": null,
            "overflow_y": null,
            "padding": null,
            "right": null,
            "top": null,
            "visibility": null,
            "width": null
          }
        },
        "191d038ff77d4f8f8263f61b52db7ee2": {
          "model_module": "@jupyter-widgets/controls",
          "model_name": "VBoxModel",
          "model_module_version": "1.5.0",
          "state": {
            "_dom_classes": [
              "widget-interact"
            ],
            "_model_module": "@jupyter-widgets/controls",
            "_model_module_version": "1.5.0",
            "_model_name": "VBoxModel",
            "_view_count": null,
            "_view_module": "@jupyter-widgets/controls",
            "_view_module_version": "1.5.0",
            "_view_name": "VBoxView",
            "box_style": "",
            "children": [
              "IPY_MODEL_2f73e680e943411eba3e44ecf45665f7",
              "IPY_MODEL_97610b00183d436299906eef365224a1",
              "IPY_MODEL_e42b8871f77446aa933e9be88d620d72"
            ],
            "layout": "IPY_MODEL_833ed611a28041de8fcac85fa4bea5cc"
          }
        },
        "2f73e680e943411eba3e44ecf45665f7": {
          "model_module": "@jupyter-widgets/controls",
          "model_name": "IntSliderModel",
          "model_module_version": "1.5.0",
          "state": {
            "_dom_classes": [],
            "_model_module": "@jupyter-widgets/controls",
            "_model_module_version": "1.5.0",
            "_model_name": "IntSliderModel",
            "_view_count": null,
            "_view_module": "@jupyter-widgets/controls",
            "_view_module_version": "1.5.0",
            "_view_name": "IntSliderView",
            "continuous_update": true,
            "description": "n",
            "description_tooltip": null,
            "disabled": false,
            "layout": "IPY_MODEL_e971017663c246e2b58cc56edaa89e3d",
            "max": 59999,
            "min": 0,
            "orientation": "horizontal",
            "readout": true,
            "readout_format": "d",
            "step": 1,
            "style": "IPY_MODEL_26a7680880944c25b32ef8de47ad5a80",
            "value": 100
          }
        },
        "97610b00183d436299906eef365224a1": {
          "model_module": "@jupyter-widgets/controls",
          "model_name": "ButtonModel",
          "model_module_version": "1.5.0",
          "state": {
            "_dom_classes": [],
            "_model_module": "@jupyter-widgets/controls",
            "_model_module_version": "1.5.0",
            "_model_name": "ButtonModel",
            "_view_count": null,
            "_view_module": "@jupyter-widgets/controls",
            "_view_module_version": "1.5.0",
            "_view_name": "ButtonView",
            "button_style": "",
            "description": "Run Interact",
            "disabled": false,
            "icon": "",
            "layout": "IPY_MODEL_b897e7c6a2124449b4f4023fb2cdd13c",
            "style": "IPY_MODEL_1746823fcc3742e68629c704dc2e79c3",
            "tooltip": ""
          }
        },
        "e42b8871f77446aa933e9be88d620d72": {
          "model_module": "@jupyter-widgets/output",
          "model_name": "OutputModel",
          "model_module_version": "1.0.0",
          "state": {
            "_dom_classes": [],
            "_model_module": "@jupyter-widgets/output",
            "_model_module_version": "1.0.0",
            "_model_name": "OutputModel",
            "_view_count": null,
            "_view_module": "@jupyter-widgets/output",
            "_view_module_version": "1.0.0",
            "_view_name": "OutputView",
            "layout": "IPY_MODEL_154593a8537f4abdb28bec0949a53d00",
            "msg_id": "",
            "outputs": []
          }
        },
        "833ed611a28041de8fcac85fa4bea5cc": {
          "model_module": "@jupyter-widgets/base",
          "model_name": "LayoutModel",
          "model_module_version": "1.2.0",
          "state": {
            "_model_module": "@jupyter-widgets/base",
            "_model_module_version": "1.2.0",
            "_model_name": "LayoutModel",
            "_view_count": null,
            "_view_module": "@jupyter-widgets/base",
            "_view_module_version": "1.2.0",
            "_view_name": "LayoutView",
            "align_content": null,
            "align_items": null,
            "align_self": null,
            "border": null,
            "bottom": null,
            "display": null,
            "flex": null,
            "flex_flow": null,
            "grid_area": null,
            "grid_auto_columns": null,
            "grid_auto_flow": null,
            "grid_auto_rows": null,
            "grid_column": null,
            "grid_gap": null,
            "grid_row": null,
            "grid_template_areas": null,
            "grid_template_columns": null,
            "grid_template_rows": null,
            "height": null,
            "justify_content": null,
            "justify_items": null,
            "left": null,
            "margin": null,
            "max_height": null,
            "max_width": null,
            "min_height": null,
            "min_width": null,
            "object_fit": null,
            "object_position": null,
            "order": null,
            "overflow": null,
            "overflow_x": null,
            "overflow_y": null,
            "padding": null,
            "right": null,
            "top": null,
            "visibility": null,
            "width": null
          }
        },
        "e971017663c246e2b58cc56edaa89e3d": {
          "model_module": "@jupyter-widgets/base",
          "model_name": "LayoutModel",
          "model_module_version": "1.2.0",
          "state": {
            "_model_module": "@jupyter-widgets/base",
            "_model_module_version": "1.2.0",
            "_model_name": "LayoutModel",
            "_view_count": null,
            "_view_module": "@jupyter-widgets/base",
            "_view_module_version": "1.2.0",
            "_view_name": "LayoutView",
            "align_content": null,
            "align_items": null,
            "align_self": null,
            "border": null,
            "bottom": null,
            "display": null,
            "flex": null,
            "flex_flow": null,
            "grid_area": null,
            "grid_auto_columns": null,
            "grid_auto_flow": null,
            "grid_auto_rows": null,
            "grid_column": null,
            "grid_gap": null,
            "grid_row": null,
            "grid_template_areas": null,
            "grid_template_columns": null,
            "grid_template_rows": null,
            "height": null,
            "justify_content": null,
            "justify_items": null,
            "left": null,
            "margin": null,
            "max_height": null,
            "max_width": null,
            "min_height": null,
            "min_width": null,
            "object_fit": null,
            "object_position": null,
            "order": null,
            "overflow": null,
            "overflow_x": null,
            "overflow_y": null,
            "padding": null,
            "right": null,
            "top": null,
            "visibility": null,
            "width": null
          }
        },
        "26a7680880944c25b32ef8de47ad5a80": {
          "model_module": "@jupyter-widgets/controls",
          "model_name": "SliderStyleModel",
          "model_module_version": "1.5.0",
          "state": {
            "_model_module": "@jupyter-widgets/controls",
            "_model_module_version": "1.5.0",
            "_model_name": "SliderStyleModel",
            "_view_count": null,
            "_view_module": "@jupyter-widgets/base",
            "_view_module_version": "1.2.0",
            "_view_name": "StyleView",
            "description_width": "",
            "handle_color": null
          }
        },
        "b897e7c6a2124449b4f4023fb2cdd13c": {
          "model_module": "@jupyter-widgets/base",
          "model_name": "LayoutModel",
          "model_module_version": "1.2.0",
          "state": {
            "_model_module": "@jupyter-widgets/base",
            "_model_module_version": "1.2.0",
            "_model_name": "LayoutModel",
            "_view_count": null,
            "_view_module": "@jupyter-widgets/base",
            "_view_module_version": "1.2.0",
            "_view_name": "LayoutView",
            "align_content": null,
            "align_items": null,
            "align_self": null,
            "border": null,
            "bottom": null,
            "display": null,
            "flex": null,
            "flex_flow": null,
            "grid_area": null,
            "grid_auto_columns": null,
            "grid_auto_flow": null,
            "grid_auto_rows": null,
            "grid_column": null,
            "grid_gap": null,
            "grid_row": null,
            "grid_template_areas": null,
            "grid_template_columns": null,
            "grid_template_rows": null,
            "height": null,
            "justify_content": null,
            "justify_items": null,
            "left": null,
            "margin": null,
            "max_height": null,
            "max_width": null,
            "min_height": null,
            "min_width": null,
            "object_fit": null,
            "object_position": null,
            "order": null,
            "overflow": null,
            "overflow_x": null,
            "overflow_y": null,
            "padding": null,
            "right": null,
            "top": null,
            "visibility": null,
            "width": null
          }
        },
        "1746823fcc3742e68629c704dc2e79c3": {
          "model_module": "@jupyter-widgets/controls",
          "model_name": "ButtonStyleModel",
          "model_module_version": "1.5.0",
          "state": {
            "_model_module": "@jupyter-widgets/controls",
            "_model_module_version": "1.5.0",
            "_model_name": "ButtonStyleModel",
            "_view_count": null,
            "_view_module": "@jupyter-widgets/base",
            "_view_module_version": "1.2.0",
            "_view_name": "StyleView",
            "button_color": null,
            "font_weight": ""
          }
        },
        "154593a8537f4abdb28bec0949a53d00": {
          "model_module": "@jupyter-widgets/base",
          "model_name": "LayoutModel",
          "model_module_version": "1.2.0",
          "state": {
            "_model_module": "@jupyter-widgets/base",
            "_model_module_version": "1.2.0",
            "_model_name": "LayoutModel",
            "_view_count": null,
            "_view_module": "@jupyter-widgets/base",
            "_view_module_version": "1.2.0",
            "_view_name": "LayoutView",
            "align_content": null,
            "align_items": null,
            "align_self": null,
            "border": null,
            "bottom": null,
            "display": null,
            "flex": null,
            "flex_flow": null,
            "grid_area": null,
            "grid_auto_columns": null,
            "grid_auto_flow": null,
            "grid_auto_rows": null,
            "grid_column": null,
            "grid_gap": null,
            "grid_row": null,
            "grid_template_areas": null,
            "grid_template_columns": null,
            "grid_template_rows": null,
            "height": null,
            "justify_content": null,
            "justify_items": null,
            "left": null,
            "margin": null,
            "max_height": null,
            "max_width": null,
            "min_height": null,
            "min_width": null,
            "object_fit": null,
            "object_position": null,
            "order": null,
            "overflow": null,
            "overflow_x": null,
            "overflow_y": null,
            "padding": null,
            "right": null,
            "top": null,
            "visibility": null,
            "width": null
          }
        },
        "a7296c50542c46118a5606afdd4c2bb9": {
          "model_module": "@jupyter-widgets/controls",
          "model_name": "VBoxModel",
          "model_module_version": "1.5.0",
          "state": {
            "_dom_classes": [
              "widget-interact"
            ],
            "_model_module": "@jupyter-widgets/controls",
            "_model_module_version": "1.5.0",
            "_model_name": "VBoxModel",
            "_view_count": null,
            "_view_module": "@jupyter-widgets/controls",
            "_view_module_version": "1.5.0",
            "_view_name": "VBoxView",
            "box_style": "",
            "children": [
              "IPY_MODEL_6ac9086eaf6d451f921523d3682c367c",
              "IPY_MODEL_a0534844909a4adfbeaf64d8b6652eac",
              "IPY_MODEL_977f10c67ccc43b09c29c55fe1ed4ed7"
            ],
            "layout": "IPY_MODEL_de3b02b1fa6f4752832bccc49374c302"
          }
        },
        "6ac9086eaf6d451f921523d3682c367c": {
          "model_module": "@jupyter-widgets/controls",
          "model_name": "IntSliderModel",
          "model_module_version": "1.5.0",
          "state": {
            "_dom_classes": [],
            "_model_module": "@jupyter-widgets/controls",
            "_model_module_version": "1.5.0",
            "_model_name": "IntSliderModel",
            "_view_count": null,
            "_view_module": "@jupyter-widgets/controls",
            "_view_module_version": "1.5.0",
            "_view_name": "IntSliderView",
            "continuous_update": true,
            "description": "測試編號",
            "description_tooltip": null,
            "disabled": false,
            "layout": "IPY_MODEL_1f159bc912f54f4985abfb45eb907140",
            "max": 9999,
            "min": 0,
            "orientation": "horizontal",
            "readout": true,
            "readout_format": "d",
            "step": 1,
            "style": "IPY_MODEL_1564ff52b16b4d12b6ceec9b1430ee39",
            "value": 6413
          }
        },
        "a0534844909a4adfbeaf64d8b6652eac": {
          "model_module": "@jupyter-widgets/controls",
          "model_name": "ButtonModel",
          "model_module_version": "1.5.0",
          "state": {
            "_dom_classes": [],
            "_model_module": "@jupyter-widgets/controls",
            "_model_module_version": "1.5.0",
            "_model_name": "ButtonModel",
            "_view_count": null,
            "_view_module": "@jupyter-widgets/controls",
            "_view_module_version": "1.5.0",
            "_view_name": "ButtonView",
            "button_style": "",
            "description": "Run Interact",
            "disabled": false,
            "icon": "",
            "layout": "IPY_MODEL_7144d5640f194e3c951d0104c0c64a03",
            "style": "IPY_MODEL_6a0dcdd8ab9f42a686c2120c2c12bf56",
            "tooltip": ""
          }
        },
        "977f10c67ccc43b09c29c55fe1ed4ed7": {
          "model_module": "@jupyter-widgets/output",
          "model_name": "OutputModel",
          "model_module_version": "1.0.0",
          "state": {
            "_dom_classes": [],
            "_model_module": "@jupyter-widgets/output",
            "_model_module_version": "1.0.0",
            "_model_name": "OutputModel",
            "_view_count": null,
            "_view_module": "@jupyter-widgets/output",
            "_view_module_version": "1.0.0",
            "_view_name": "OutputView",
            "layout": "IPY_MODEL_109265e6c1fd4817b7a54e6de36f9a90",
            "msg_id": "",
            "outputs": [
              {
                "output_type": "stream",
                "name": "stdout",
                "text": [
                  "神經網路判斷為: 7\n"
                ]
              }
            ]
          }
        },
        "de3b02b1fa6f4752832bccc49374c302": {
          "model_module": "@jupyter-widgets/base",
          "model_name": "LayoutModel",
          "model_module_version": "1.2.0",
          "state": {
            "_model_module": "@jupyter-widgets/base",
            "_model_module_version": "1.2.0",
            "_model_name": "LayoutModel",
            "_view_count": null,
            "_view_module": "@jupyter-widgets/base",
            "_view_module_version": "1.2.0",
            "_view_name": "LayoutView",
            "align_content": null,
            "align_items": null,
            "align_self": null,
            "border": null,
            "bottom": null,
            "display": null,
            "flex": null,
            "flex_flow": null,
            "grid_area": null,
            "grid_auto_columns": null,
            "grid_auto_flow": null,
            "grid_auto_rows": null,
            "grid_column": null,
            "grid_gap": null,
            "grid_row": null,
            "grid_template_areas": null,
            "grid_template_columns": null,
            "grid_template_rows": null,
            "height": null,
            "justify_content": null,
            "justify_items": null,
            "left": null,
            "margin": null,
            "max_height": null,
            "max_width": null,
            "min_height": null,
            "min_width": null,
            "object_fit": null,
            "object_position": null,
            "order": null,
            "overflow": null,
            "overflow_x": null,
            "overflow_y": null,
            "padding": null,
            "right": null,
            "top": null,
            "visibility": null,
            "width": null
          }
        },
        "1f159bc912f54f4985abfb45eb907140": {
          "model_module": "@jupyter-widgets/base",
          "model_name": "LayoutModel",
          "model_module_version": "1.2.0",
          "state": {
            "_model_module": "@jupyter-widgets/base",
            "_model_module_version": "1.2.0",
            "_model_name": "LayoutModel",
            "_view_count": null,
            "_view_module": "@jupyter-widgets/base",
            "_view_module_version": "1.2.0",
            "_view_name": "LayoutView",
            "align_content": null,
            "align_items": null,
            "align_self": null,
            "border": null,
            "bottom": null,
            "display": null,
            "flex": null,
            "flex_flow": null,
            "grid_area": null,
            "grid_auto_columns": null,
            "grid_auto_flow": null,
            "grid_auto_rows": null,
            "grid_column": null,
            "grid_gap": null,
            "grid_row": null,
            "grid_template_areas": null,
            "grid_template_columns": null,
            "grid_template_rows": null,
            "height": null,
            "justify_content": null,
            "justify_items": null,
            "left": null,
            "margin": null,
            "max_height": null,
            "max_width": null,
            "min_height": null,
            "min_width": null,
            "object_fit": null,
            "object_position": null,
            "order": null,
            "overflow": null,
            "overflow_x": null,
            "overflow_y": null,
            "padding": null,
            "right": null,
            "top": null,
            "visibility": null,
            "width": null
          }
        },
        "1564ff52b16b4d12b6ceec9b1430ee39": {
          "model_module": "@jupyter-widgets/controls",
          "model_name": "SliderStyleModel",
          "model_module_version": "1.5.0",
          "state": {
            "_model_module": "@jupyter-widgets/controls",
            "_model_module_version": "1.5.0",
            "_model_name": "SliderStyleModel",
            "_view_count": null,
            "_view_module": "@jupyter-widgets/base",
            "_view_module_version": "1.2.0",
            "_view_name": "StyleView",
            "description_width": "",
            "handle_color": null
          }
        },
        "7144d5640f194e3c951d0104c0c64a03": {
          "model_module": "@jupyter-widgets/base",
          "model_name": "LayoutModel",
          "model_module_version": "1.2.0",
          "state": {
            "_model_module": "@jupyter-widgets/base",
            "_model_module_version": "1.2.0",
            "_model_name": "LayoutModel",
            "_view_count": null,
            "_view_module": "@jupyter-widgets/base",
            "_view_module_version": "1.2.0",
            "_view_name": "LayoutView",
            "align_content": null,
            "align_items": null,
            "align_self": null,
            "border": null,
            "bottom": null,
            "display": null,
            "flex": null,
            "flex_flow": null,
            "grid_area": null,
            "grid_auto_columns": null,
            "grid_auto_flow": null,
            "grid_auto_rows": null,
            "grid_column": null,
            "grid_gap": null,
            "grid_row": null,
            "grid_template_areas": null,
            "grid_template_columns": null,
            "grid_template_rows": null,
            "height": null,
            "justify_content": null,
            "justify_items": null,
            "left": null,
            "margin": null,
            "max_height": null,
            "max_width": null,
            "min_height": null,
            "min_width": null,
            "object_fit": null,
            "object_position": null,
            "order": null,
            "overflow": null,
            "overflow_x": null,
            "overflow_y": null,
            "padding": null,
            "right": null,
            "top": null,
            "visibility": null,
            "width": null
          }
        },
        "6a0dcdd8ab9f42a686c2120c2c12bf56": {
          "model_module": "@jupyter-widgets/controls",
          "model_name": "ButtonStyleModel",
          "model_module_version": "1.5.0",
          "state": {
            "_model_module": "@jupyter-widgets/controls",
            "_model_module_version": "1.5.0",
            "_model_name": "ButtonStyleModel",
            "_view_count": null,
            "_view_module": "@jupyter-widgets/base",
            "_view_module_version": "1.2.0",
            "_view_name": "StyleView",
            "button_color": null,
            "font_weight": ""
          }
        },
        "109265e6c1fd4817b7a54e6de36f9a90": {
          "model_module": "@jupyter-widgets/base",
          "model_name": "LayoutModel",
          "model_module_version": "1.2.0",
          "state": {
            "_model_module": "@jupyter-widgets/base",
            "_model_module_version": "1.2.0",
            "_model_name": "LayoutModel",
            "_view_count": null,
            "_view_module": "@jupyter-widgets/base",
            "_view_module_version": "1.2.0",
            "_view_name": "LayoutView",
            "align_content": null,
            "align_items": null,
            "align_self": null,
            "border": null,
            "bottom": null,
            "display": null,
            "flex": null,
            "flex_flow": null,
            "grid_area": null,
            "grid_auto_columns": null,
            "grid_auto_flow": null,
            "grid_auto_rows": null,
            "grid_column": null,
            "grid_gap": null,
            "grid_row": null,
            "grid_template_areas": null,
            "grid_template_columns": null,
            "grid_template_rows": null,
            "height": null,
            "justify_content": null,
            "justify_items": null,
            "left": null,
            "margin": null,
            "max_height": null,
            "max_width": null,
            "min_height": null,
            "min_width": null,
            "object_fit": null,
            "object_position": null,
            "order": null,
            "overflow": null,
            "overflow_x": null,
            "overflow_y": null,
            "padding": null,
            "right": null,
            "top": null,
            "visibility": null,
            "width": null
          }
        }
      }
    },
    "accelerator": "GPU"
  },
  "cells": [
    {
      "cell_type": "markdown",
      "metadata": {
        "id": "view-in-github",
        "colab_type": "text"
      },
      "source": [
        "<a href=\"https://colab.research.google.com/github/yenlung/Python-AI-Book/blob/main/Colab_Demo_%E8%A8%AD%E8%A8%88%E4%BD%A0%E7%9A%84%E7%A5%9E%E7%B6%93%E7%B6%B2%E8%B7%AF.ipynb\" target=\"_parent\"><img src=\"https://colab.research.google.com/assets/colab-badge.svg\" alt=\"Open In Colab\"/></a>"
      ]
    },
    {
      "cell_type": "markdown",
      "metadata": {
        "id": "n3FBwETr0AvY"
      },
      "source": [
        "![Jupyter 工作室 拷貝.001.jpeg](data:image/jpeg;base64,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)"
      ]
    },
    {
      "cell_type": "markdown",
      "metadata": {
        "id": "peN7YRgV0Ave"
      },
      "source": [
        "\n",
        "[![Open In Colab](https://colab.research.google.com/assets/colab-badge.svg)](https://colab.research.google.com/github/yenlung/Deep-Learning-Basics/blob/master/Colab_Demo_%E8%A8%AD%E8%A8%88%E4%BD%A0%E7%9A%84%E7%A5%9E%E7%B6%93%E7%B6%B2%E8%B7%AF%20Gradio%20%E7%89%88.ipynb)\n",
        "\n",
        "我們終於要開始做生命中第一個神經網路..."
      ]
    },
    {
      "cell_type": "code",
      "source": [
        "!pip install -U tensorflow-probability\n",
        "!pip install typing-extensions --upgrade\n",
        "!pip install gradio\n",
        "!pip install langchain"
      ],
      "metadata": {
        "colab": {
          "base_uri": "https://localhost:8080/"
        },
        "id": "5AEZ2LsrGlfp",
        "outputId": "942aa77a-0189-444f-e20d-02e4be9804ae"
      },
      "execution_count": 1,
      "outputs": [
        {
          "output_type": "stream",
          "name": "stdout",
          "text": [
            "Requirement already satisfied: tensorflow-probability in /usr/local/lib/python3.10/dist-packages (0.22.0)\n",
            "Collecting tensorflow-probability\n",
            "  Downloading tensorflow_probability-0.23.0-py2.py3-none-any.whl (6.9 MB)\n",
            "\u001b[2K     \u001b[90m━━━━━━━━━━━━━━━━━━━━━━━━━━━━━━━━━━━━━━━━\u001b[0m \u001b[32m6.9/6.9 MB\u001b[0m \u001b[31m53.9 MB/s\u001b[0m eta \u001b[36m0:00:00\u001b[0m\n",
            "\u001b[?25hRequirement already satisfied: absl-py in /usr/local/lib/python3.10/dist-packages (from tensorflow-probability) (1.4.0)\n",
            "Requirement already satisfied: six>=1.10.0 in /usr/local/lib/python3.10/dist-packages (from tensorflow-probability) (1.16.0)\n",
            "Requirement already satisfied: numpy>=1.13.3 in /usr/local/lib/python3.10/dist-packages (from tensorflow-probability) (1.23.5)\n",
            "Requirement already satisfied: decorator in /usr/local/lib/python3.10/dist-packages (from tensorflow-probability) (4.4.2)\n",
            "Requirement already satisfied: cloudpickle>=1.3 in /usr/local/lib/python3.10/dist-packages (from tensorflow-probability) (2.2.1)\n",
            "Requirement already satisfied: gast>=0.3.2 in /usr/local/lib/python3.10/dist-packages (from tensorflow-probability) (0.5.4)\n",
            "Requirement already satisfied: dm-tree in /usr/local/lib/python3.10/dist-packages (from tensorflow-probability) (0.1.8)\n",
            "Installing collected packages: tensorflow-probability\n",
            "  Attempting uninstall: tensorflow-probability\n",
            "    Found existing installation: tensorflow-probability 0.22.0\n",
            "    Uninstalling tensorflow-probability-0.22.0:\n",
            "      Successfully uninstalled tensorflow-probability-0.22.0\n",
            "Successfully installed tensorflow-probability-0.23.0\n",
            "Requirement already satisfied: typing-extensions in /usr/local/lib/python3.10/dist-packages (4.5.0)\n",
            "Collecting typing-extensions\n",
            "  Downloading typing_extensions-4.8.0-py3-none-any.whl (31 kB)\n",
            "Installing collected packages: typing-extensions\n",
            "  Attempting uninstall: typing-extensions\n",
            "    Found existing installation: typing_extensions 4.5.0\n",
            "    Uninstalling typing_extensions-4.5.0:\n",
            "      Successfully uninstalled typing_extensions-4.5.0\n",
            "Successfully installed typing-extensions-4.8.0\n",
            "Collecting gradio\n",
            "  Downloading gradio-4.7.1-py3-none-any.whl (16.5 MB)\n",
            "\u001b[2K     \u001b[90m━━━━━━━━━━━━━━━━━━━━━━━━━━━━━━━━━━━━━━━━\u001b[0m \u001b[32m16.5/16.5 MB\u001b[0m \u001b[31m66.4 MB/s\u001b[0m eta \u001b[36m0:00:00\u001b[0m\n",
            "\u001b[?25hCollecting aiofiles<24.0,>=22.0 (from gradio)\n",
            "  Downloading aiofiles-23.2.1-py3-none-any.whl (15 kB)\n",
            "Requirement already satisfied: altair<6.0,>=4.2.0 in /usr/local/lib/python3.10/dist-packages (from gradio) (4.2.2)\n",
            "Collecting fastapi (from gradio)\n",
            "  Downloading fastapi-0.104.1-py3-none-any.whl (92 kB)\n",
            "\u001b[2K     \u001b[90m━━━━━━━━━━━━━━━━━━━━━━━━━━━━━━━━━━━━━━━━\u001b[0m \u001b[32m92.9/92.9 kB\u001b[0m \u001b[31m11.1 MB/s\u001b[0m eta \u001b[36m0:00:00\u001b[0m\n",
            "\u001b[?25hCollecting ffmpy (from gradio)\n",
            "  Downloading ffmpy-0.3.1.tar.gz (5.5 kB)\n",
            "  Preparing metadata (setup.py) ... \u001b[?25l\u001b[?25hdone\n",
            "Collecting gradio-client==0.7.0 (from gradio)\n",
            "  Downloading gradio_client-0.7.0-py3-none-any.whl (302 kB)\n",
            "\u001b[2K     \u001b[90m━━━━━━━━━━━━━━━━━━━━━━━━━━━━━━━━━━━━━━━━\u001b[0m \u001b[32m302.7/302.7 kB\u001b[0m \u001b[31m35.4 MB/s\u001b[0m eta \u001b[36m0:00:00\u001b[0m\n",
            "\u001b[?25hCollecting httpx (from gradio)\n",
            "  Downloading httpx-0.25.2-py3-none-any.whl (74 kB)\n",
            "\u001b[2K     \u001b[90m━━━━━━━━━━━━━━━━━━━━━━━━━━━━━━━━━━━━━━━━\u001b[0m \u001b[32m75.0/75.0 kB\u001b[0m \u001b[31m11.3 MB/s\u001b[0m eta \u001b[36m0:00:00\u001b[0m\n",
            "\u001b[?25hRequirement already satisfied: huggingface-hub>=0.14.0 in /usr/local/lib/python3.10/dist-packages (from gradio) (0.19.4)\n",
            "Requirement already satisfied: importlib-resources<7.0,>=1.3 in /usr/local/lib/python3.10/dist-packages (from gradio) (6.1.1)\n",
            "Requirement already satisfied: jinja2<4.0 in /usr/local/lib/python3.10/dist-packages (from gradio) (3.1.2)\n",
            "Requirement already satisfied: markupsafe~=2.0 in /usr/local/lib/python3.10/dist-packages (from gradio) (2.1.3)\n",
            "Requirement already satisfied: matplotlib~=3.0 in /usr/local/lib/python3.10/dist-packages (from gradio) (3.7.1)\n",
            "Requirement already satisfied: numpy~=1.0 in /usr/local/lib/python3.10/dist-packages (from gradio) (1.23.5)\n",
            "Collecting orjson~=3.0 (from gradio)\n",
            "  Downloading orjson-3.9.10-cp310-cp310-manylinux_2_17_x86_64.manylinux2014_x86_64.whl (138 kB)\n",
            "\u001b[2K     \u001b[90m━━━━━━━━━━━━━━━━━━━━━━━━━━━━━━━━━━━━━━━━\u001b[0m \u001b[32m138.7/138.7 kB\u001b[0m \u001b[31m20.0 MB/s\u001b[0m eta \u001b[36m0:00:00\u001b[0m\n",
            "\u001b[?25hRequirement already satisfied: packaging in /usr/local/lib/python3.10/dist-packages (from gradio) (23.2)\n",
            "Requirement already satisfied: pandas<3.0,>=1.0 in /usr/local/lib/python3.10/dist-packages (from gradio) (1.5.3)\n",
            "Requirement already satisfied: pillow<11.0,>=8.0 in /usr/local/lib/python3.10/dist-packages (from gradio) (9.4.0)\n",
            "Collecting pydantic>=2.0 (from gradio)\n",
            "  Downloading pydantic-2.5.2-py3-none-any.whl (381 kB)\n",
            "\u001b[2K     \u001b[90m━━━━━━━━━━━━━━━━━━━━━━━━━━━━━━━━━━━━━━━━\u001b[0m \u001b[32m381.9/381.9 kB\u001b[0m \u001b[31m45.4 MB/s\u001b[0m eta \u001b[36m0:00:00\u001b[0m\n",
            "\u001b[?25hCollecting pydub (from gradio)\n",
            "  Downloading pydub-0.25.1-py2.py3-none-any.whl (32 kB)\n",
            "Collecting python-multipart (from gradio)\n",
            "  Downloading python_multipart-0.0.6-py3-none-any.whl (45 kB)\n",
            "\u001b[2K     \u001b[90m━━━━━━━━━━━━━━━━━━━━━━━━━━━━━━━━━━━━━━━━\u001b[0m \u001b[32m45.7/45.7 kB\u001b[0m \u001b[31m6.5 MB/s\u001b[0m eta \u001b[36m0:00:00\u001b[0m\n",
            "\u001b[?25hRequirement already satisfied: pyyaml<7.0,>=5.0 in /usr/local/lib/python3.10/dist-packages (from gradio) (6.0.1)\n",
            "Requirement already satisfied: requests~=2.0 in /usr/local/lib/python3.10/dist-packages (from gradio) (2.31.0)\n",
            "Collecting semantic-version~=2.0 (from gradio)\n",
            "  Downloading semantic_version-2.10.0-py2.py3-none-any.whl (15 kB)\n",
            "Collecting tomlkit==0.12.0 (from gradio)\n",
            "  Downloading tomlkit-0.12.0-py3-none-any.whl (37 kB)\n",
            "Requirement already satisfied: typer[all]<1.0,>=0.9 in /usr/local/lib/python3.10/dist-packages (from gradio) (0.9.0)\n",
            "Requirement already satisfied: typing-extensions~=4.0 in /usr/local/lib/python3.10/dist-packages (from gradio) (4.8.0)\n",
            "Collecting uvicorn>=0.14.0 (from gradio)\n",
            "  Downloading uvicorn-0.24.0.post1-py3-none-any.whl (59 kB)\n",
            "\u001b[2K     \u001b[90m━━━━━━━━━━━━━━━━━━━━━━━━━━━━━━━━━━━━━━━━\u001b[0m \u001b[32m59.7/59.7 kB\u001b[0m \u001b[31m8.7 MB/s\u001b[0m eta \u001b[36m0:00:00\u001b[0m\n",
            "\u001b[?25hRequirement already satisfied: fsspec in /usr/local/lib/python3.10/dist-packages (from gradio-client==0.7.0->gradio) (2023.6.0)\n",
            "Collecting websockets<12.0,>=10.0 (from gradio-client==0.7.0->gradio)\n",
            "  Downloading websockets-11.0.3-cp310-cp310-manylinux_2_5_x86_64.manylinux1_x86_64.manylinux_2_17_x86_64.manylinux2014_x86_64.whl (129 kB)\n",
            "\u001b[2K     \u001b[90m━━━━━━━━━━━━━━━━━━━━━━━━━━━━━━━━━━━━━━━━\u001b[0m \u001b[32m129.9/129.9 kB\u001b[0m \u001b[31m19.1 MB/s\u001b[0m eta \u001b[36m0:00:00\u001b[0m\n",
            "\u001b[?25hRequirement already satisfied: entrypoints in /usr/local/lib/python3.10/dist-packages (from altair<6.0,>=4.2.0->gradio) (0.4)\n",
            "Requirement already satisfied: jsonschema>=3.0 in /usr/local/lib/python3.10/dist-packages (from altair<6.0,>=4.2.0->gradio) (4.19.2)\n",
            "Requirement already satisfied: toolz in /usr/local/lib/python3.10/dist-packages (from altair<6.0,>=4.2.0->gradio) (0.12.0)\n",
            "Requirement already satisfied: filelock in /usr/local/lib/python3.10/dist-packages (from huggingface-hub>=0.14.0->gradio) (3.13.1)\n",
            "Requirement already satisfied: tqdm>=4.42.1 in /usr/local/lib/python3.10/dist-packages (from huggingface-hub>=0.14.0->gradio) (4.66.1)\n",
            "Requirement already satisfied: contourpy>=1.0.1 in /usr/local/lib/python3.10/dist-packages (from matplotlib~=3.0->gradio) (1.2.0)\n",
            "Requirement already satisfied: cycler>=0.10 in /usr/local/lib/python3.10/dist-packages (from matplotlib~=3.0->gradio) (0.12.1)\n",
            "Requirement already satisfied: fonttools>=4.22.0 in /usr/local/lib/python3.10/dist-packages (from matplotlib~=3.0->gradio) (4.44.3)\n",
            "Requirement already satisfied: kiwisolver>=1.0.1 in /usr/local/lib/python3.10/dist-packages (from matplotlib~=3.0->gradio) (1.4.5)\n",
            "Requirement already satisfied: pyparsing>=2.3.1 in /usr/local/lib/python3.10/dist-packages (from matplotlib~=3.0->gradio) (3.1.1)\n",
            "Requirement already satisfied: python-dateutil>=2.7 in /usr/local/lib/python3.10/dist-packages (from matplotlib~=3.0->gradio) (2.8.2)\n",
            "Requirement already satisfied: pytz>=2020.1 in /usr/local/lib/python3.10/dist-packages (from pandas<3.0,>=1.0->gradio) (2023.3.post1)\n",
            "Collecting annotated-types>=0.4.0 (from pydantic>=2.0->gradio)\n",
            "  Downloading annotated_types-0.6.0-py3-none-any.whl (12 kB)\n",
            "Collecting pydantic-core==2.14.5 (from pydantic>=2.0->gradio)\n",
            "  Downloading pydantic_core-2.14.5-cp310-cp310-manylinux_2_17_x86_64.manylinux2014_x86_64.whl (2.1 MB)\n",
            "\u001b[2K     \u001b[90m━━━━━━━━━━━━━━━━━━━━━━━━━━━━━━━━━━━━━━━━\u001b[0m \u001b[32m2.1/2.1 MB\u001b[0m \u001b[31m92.5 MB/s\u001b[0m eta \u001b[36m0:00:00\u001b[0m\n",
            "\u001b[?25hRequirement already satisfied: charset-normalizer<4,>=2 in /usr/local/lib/python3.10/dist-packages (from requests~=2.0->gradio) (3.3.2)\n",
            "Requirement already satisfied: idna<4,>=2.5 in /usr/local/lib/python3.10/dist-packages (from requests~=2.0->gradio) (3.4)\n",
            "Requirement already satisfied: urllib3<3,>=1.21.1 in /usr/local/lib/python3.10/dist-packages (from requests~=2.0->gradio) (2.0.7)\n",
            "Requirement already satisfied: certifi>=2017.4.17 in /usr/local/lib/python3.10/dist-packages (from requests~=2.0->gradio) (2023.7.22)\n",
            "Requirement already satisfied: click<9.0.0,>=7.1.1 in /usr/local/lib/python3.10/dist-packages (from typer[all]<1.0,>=0.9->gradio) (8.1.7)\n",
            "Collecting colorama<0.5.0,>=0.4.3 (from typer[all]<1.0,>=0.9->gradio)\n",
            "  Downloading colorama-0.4.6-py2.py3-none-any.whl (25 kB)\n",
            "Collecting shellingham<2.0.0,>=1.3.0 (from typer[all]<1.0,>=0.9->gradio)\n",
            "  Downloading shellingham-1.5.4-py2.py3-none-any.whl (9.8 kB)\n",
            "Requirement already satisfied: rich<14.0.0,>=10.11.0 in /usr/local/lib/python3.10/dist-packages (from typer[all]<1.0,>=0.9->gradio) (13.7.0)\n",
            "Collecting h11>=0.8 (from uvicorn>=0.14.0->gradio)\n",
            "  Downloading h11-0.14.0-py3-none-any.whl (58 kB)\n",
            "\u001b[2K     \u001b[90m━━━━━━━━━━━━━━━━━━━━━━━━━━━━━━━━━━━━━━━━\u001b[0m \u001b[32m58.3/58.3 kB\u001b[0m \u001b[31m8.6 MB/s\u001b[0m eta \u001b[36m0:00:00\u001b[0m\n",
            "\u001b[?25hRequirement already satisfied: anyio<4.0.0,>=3.7.1 in /usr/local/lib/python3.10/dist-packages (from fastapi->gradio) (3.7.1)\n",
            "Collecting starlette<0.28.0,>=0.27.0 (from fastapi->gradio)\n",
            "  Downloading starlette-0.27.0-py3-none-any.whl (66 kB)\n",
            "\u001b[2K     \u001b[90m━━━━━━━━━━━━━━━━━━━━━━━━━━━━━━━━━━━━━━━━\u001b[0m \u001b[32m67.0/67.0 kB\u001b[0m \u001b[31m9.8 MB/s\u001b[0m eta \u001b[36m0:00:00\u001b[0m\n",
            "\u001b[?25hCollecting httpcore==1.* (from httpx->gradio)\n",
            "  Downloading httpcore-1.0.2-py3-none-any.whl (76 kB)\n",
            "\u001b[2K     \u001b[90m━━━━━━━━━━━━━━━━━━━━━━━━━━━━━━━━━━━━━━━━\u001b[0m \u001b[32m76.9/76.9 kB\u001b[0m \u001b[31m11.5 MB/s\u001b[0m eta \u001b[36m0:00:00\u001b[0m\n",
            "\u001b[?25hRequirement already satisfied: sniffio in /usr/local/lib/python3.10/dist-packages (from httpx->gradio) (1.3.0)\n",
            "Requirement already satisfied: exceptiongroup in /usr/local/lib/python3.10/dist-packages (from anyio<4.0.0,>=3.7.1->fastapi->gradio) (1.1.3)\n",
            "Requirement already satisfied: attrs>=22.2.0 in /usr/local/lib/python3.10/dist-packages (from jsonschema>=3.0->altair<6.0,>=4.2.0->gradio) (23.1.0)\n",
            "Requirement already satisfied: jsonschema-specifications>=2023.03.6 in /usr/local/lib/python3.10/dist-packages (from jsonschema>=3.0->altair<6.0,>=4.2.0->gradio) (2023.11.1)\n",
            "Requirement already satisfied: referencing>=0.28.4 in /usr/local/lib/python3.10/dist-packages (from jsonschema>=3.0->altair<6.0,>=4.2.0->gradio) (0.31.0)\n",
            "Requirement already satisfied: rpds-py>=0.7.1 in /usr/local/lib/python3.10/dist-packages (from jsonschema>=3.0->altair<6.0,>=4.2.0->gradio) (0.13.0)\n",
            "Requirement already satisfied: six>=1.5 in /usr/local/lib/python3.10/dist-packages (from python-dateutil>=2.7->matplotlib~=3.0->gradio) (1.16.0)\n",
            "Requirement already satisfied: markdown-it-py>=2.2.0 in /usr/local/lib/python3.10/dist-packages (from rich<14.0.0,>=10.11.0->typer[all]<1.0,>=0.9->gradio) (3.0.0)\n",
            "Requirement already satisfied: pygments<3.0.0,>=2.13.0 in /usr/local/lib/python3.10/dist-packages (from rich<14.0.0,>=10.11.0->typer[all]<1.0,>=0.9->gradio) (2.16.1)\n",
            "Requirement already satisfied: mdurl~=0.1 in /usr/local/lib/python3.10/dist-packages (from markdown-it-py>=2.2.0->rich<14.0.0,>=10.11.0->typer[all]<1.0,>=0.9->gradio) (0.1.2)\n",
            "Building wheels for collected packages: ffmpy\n",
            "  Building wheel for ffmpy (setup.py) ... \u001b[?25l\u001b[?25hdone\n",
            "  Created wheel for ffmpy: filename=ffmpy-0.3.1-py3-none-any.whl size=5579 sha256=df0d74d69a9fc1979c4c971fdb993a59693bad106cb5b1150e7b73dd57b39e04\n",
            "  Stored in directory: /root/.cache/pip/wheels/01/a6/d1/1c0828c304a4283b2c1639a09ad86f83d7c487ef34c6b4a1bf\n",
            "Successfully built ffmpy\n",
            "Installing collected packages: pydub, ffmpy, websockets, tomlkit, shellingham, semantic-version, python-multipart, pydantic-core, orjson, h11, colorama, annotated-types, aiofiles, uvicorn, starlette, pydantic, httpcore, httpx, fastapi, gradio-client, gradio\n",
            "  Attempting uninstall: pydantic\n",
            "    Found existing installation: pydantic 1.10.13\n",
            "    Uninstalling pydantic-1.10.13:\n",
            "      Successfully uninstalled pydantic-1.10.13\n",
            "\u001b[31mERROR: pip's dependency resolver does not currently take into account all the packages that are installed. This behaviour is the source of the following dependency conflicts.\n",
            "lida 0.0.10 requires kaleido, which is not installed.\n",
            "llmx 0.0.15a0 requires cohere, which is not installed.\n",
            "llmx 0.0.15a0 requires openai, which is not installed.\n",
            "llmx 0.0.15a0 requires tiktoken, which is not installed.\u001b[0m\u001b[31m\n",
            "\u001b[0mSuccessfully installed aiofiles-23.2.1 annotated-types-0.6.0 colorama-0.4.6 fastapi-0.104.1 ffmpy-0.3.1 gradio-4.7.1 gradio-client-0.7.0 h11-0.14.0 httpcore-1.0.2 httpx-0.25.2 orjson-3.9.10 pydantic-2.5.2 pydantic-core-2.14.5 pydub-0.25.1 python-multipart-0.0.6 semantic-version-2.10.0 shellingham-1.5.4 starlette-0.27.0 tomlkit-0.12.0 uvicorn-0.24.0.post1 websockets-11.0.3\n",
            "Collecting langchain\n",
            "  Downloading langchain-0.0.340-py3-none-any.whl (2.0 MB)\n",
            "\u001b[2K     \u001b[90m━━━━━━━━━━━━━━━━━━━━━━━━━━━━━━━━━━━━━━━━\u001b[0m \u001b[32m2.0/2.0 MB\u001b[0m \u001b[31m29.7 MB/s\u001b[0m eta \u001b[36m0:00:00\u001b[0m\n",
            "\u001b[?25hRequirement already satisfied: PyYAML>=5.3 in /usr/local/lib/python3.10/dist-packages (from langchain) (6.0.1)\n",
            "Requirement already satisfied: SQLAlchemy<3,>=1.4 in /usr/local/lib/python3.10/dist-packages (from langchain) (2.0.23)\n",
            "Requirement already satisfied: aiohttp<4.0.0,>=3.8.3 in /usr/local/lib/python3.10/dist-packages (from langchain) (3.8.6)\n",
            "Requirement already satisfied: anyio<4.0 in /usr/local/lib/python3.10/dist-packages (from langchain) (3.7.1)\n",
            "Requirement already satisfied: async-timeout<5.0.0,>=4.0.0 in /usr/local/lib/python3.10/dist-packages (from langchain) (4.0.3)\n",
            "Collecting dataclasses-json<0.7,>=0.5.7 (from langchain)\n",
            "  Downloading dataclasses_json-0.6.2-py3-none-any.whl (28 kB)\n",
            "Collecting jsonpatch<2.0,>=1.33 (from langchain)\n",
            "  Downloading jsonpatch-1.33-py2.py3-none-any.whl (12 kB)\n",
            "Collecting langsmith<0.1.0,>=0.0.63 (from langchain)\n",
            "  Downloading langsmith-0.0.66-py3-none-any.whl (46 kB)\n",
            "\u001b[2K     \u001b[90m━━━━━━━━━━━━━━━━━━━━━━━━━━━━━━━━━━━━━━━━\u001b[0m \u001b[32m46.8/46.8 kB\u001b[0m \u001b[31m135.8 kB/s\u001b[0m eta \u001b[36m0:00:00\u001b[0m\n",
            "\u001b[?25hRequirement already satisfied: numpy<2,>=1 in /usr/local/lib/python3.10/dist-packages (from langchain) (1.23.5)\n",
            "Requirement already satisfied: pydantic<3,>=1 in /usr/local/lib/python3.10/dist-packages (from langchain) (2.5.2)\n",
            "Requirement already satisfied: requests<3,>=2 in /usr/local/lib/python3.10/dist-packages (from langchain) (2.31.0)\n",
            "Requirement already satisfied: tenacity<9.0.0,>=8.1.0 in /usr/local/lib/python3.10/dist-packages (from langchain) (8.2.3)\n",
            "Requirement already satisfied: attrs>=17.3.0 in /usr/local/lib/python3.10/dist-packages (from aiohttp<4.0.0,>=3.8.3->langchain) (23.1.0)\n",
            "Requirement already satisfied: charset-normalizer<4.0,>=2.0 in /usr/local/lib/python3.10/dist-packages (from aiohttp<4.0.0,>=3.8.3->langchain) (3.3.2)\n",
            "Requirement already satisfied: multidict<7.0,>=4.5 in /usr/local/lib/python3.10/dist-packages (from aiohttp<4.0.0,>=3.8.3->langchain) (6.0.4)\n",
            "Requirement already satisfied: yarl<2.0,>=1.0 in /usr/local/lib/python3.10/dist-packages (from aiohttp<4.0.0,>=3.8.3->langchain) (1.9.2)\n",
            "Requirement already satisfied: frozenlist>=1.1.1 in /usr/local/lib/python3.10/dist-packages (from aiohttp<4.0.0,>=3.8.3->langchain) (1.4.0)\n",
            "Requirement already satisfied: aiosignal>=1.1.2 in /usr/local/lib/python3.10/dist-packages (from aiohttp<4.0.0,>=3.8.3->langchain) (1.3.1)\n",
            "Requirement already satisfied: idna>=2.8 in /usr/local/lib/python3.10/dist-packages (from anyio<4.0->langchain) (3.4)\n",
            "Requirement already satisfied: sniffio>=1.1 in /usr/local/lib/python3.10/dist-packages (from anyio<4.0->langchain) (1.3.0)\n",
            "Requirement already satisfied: exceptiongroup in /usr/local/lib/python3.10/dist-packages (from anyio<4.0->langchain) (1.1.3)\n",
            "Collecting marshmallow<4.0.0,>=3.18.0 (from dataclasses-json<0.7,>=0.5.7->langchain)\n",
            "  Downloading marshmallow-3.20.1-py3-none-any.whl (49 kB)\n",
            "\u001b[2K     \u001b[90m━━━━━━━━━━━━━━━━━━━━━━━━━━━━━━━━━━━━━━━━\u001b[0m \u001b[32m49.4/49.4 kB\u001b[0m \u001b[31m6.8 MB/s\u001b[0m eta \u001b[36m0:00:00\u001b[0m\n",
            "\u001b[?25hCollecting typing-inspect<1,>=0.4.0 (from dataclasses-json<0.7,>=0.5.7->langchain)\n",
            "  Downloading typing_inspect-0.9.0-py3-none-any.whl (8.8 kB)\n",
            "Collecting jsonpointer>=1.9 (from jsonpatch<2.0,>=1.33->langchain)\n",
            "  Downloading jsonpointer-2.4-py2.py3-none-any.whl (7.8 kB)\n",
            "Requirement already satisfied: annotated-types>=0.4.0 in /usr/local/lib/python3.10/dist-packages (from pydantic<3,>=1->langchain) (0.6.0)\n",
            "Requirement already satisfied: pydantic-core==2.14.5 in /usr/local/lib/python3.10/dist-packages (from pydantic<3,>=1->langchain) (2.14.5)\n",
            "Requirement already satisfied: typing-extensions>=4.6.1 in /usr/local/lib/python3.10/dist-packages (from pydantic<3,>=1->langchain) (4.8.0)\n",
            "Requirement already satisfied: urllib3<3,>=1.21.1 in /usr/local/lib/python3.10/dist-packages (from requests<3,>=2->langchain) (2.0.7)\n",
            "Requirement already satisfied: certifi>=2017.4.17 in /usr/local/lib/python3.10/dist-packages (from requests<3,>=2->langchain) (2023.7.22)\n",
            "Requirement already satisfied: greenlet!=0.4.17 in /usr/local/lib/python3.10/dist-packages (from SQLAlchemy<3,>=1.4->langchain) (3.0.1)\n",
            "Requirement already satisfied: packaging>=17.0 in /usr/local/lib/python3.10/dist-packages (from marshmallow<4.0.0,>=3.18.0->dataclasses-json<0.7,>=0.5.7->langchain) (23.2)\n",
            "Collecting mypy-extensions>=0.3.0 (from typing-inspect<1,>=0.4.0->dataclasses-json<0.7,>=0.5.7->langchain)\n",
            "  Downloading mypy_extensions-1.0.0-py3-none-any.whl (4.7 kB)\n",
            "Installing collected packages: mypy-extensions, marshmallow, jsonpointer, typing-inspect, jsonpatch, langsmith, dataclasses-json, langchain\n",
            "Successfully installed dataclasses-json-0.6.2 jsonpatch-1.33 jsonpointer-2.4 langchain-0.0.340 langsmith-0.0.66 marshmallow-3.20.1 mypy-extensions-1.0.0 typing-inspect-0.9.0\n"
          ]
        }
      ]
    },
    {
      "cell_type": "markdown",
      "metadata": {
        "id": "RkYdA5re0Ave"
      },
      "source": [
        "## 1. 讀入套件\n",
        "\n",
        "這裡我們讀入一些套件, 今天暫時不要理會細節。"
      ]
    },
    {
      "cell_type": "code",
      "metadata": {
        "id": "pEq2NFpF0Avf"
      },
      "source": [
        "%matplotlib inline\n",
        "\n",
        "# 標準數據分析、畫圖套件\n",
        "import numpy as np\n",
        "import matplotlib.pyplot as plt\n",
        "\n",
        "# 神經網路方面\n",
        "from tensorflow.keras.datasets import mnist\n",
        "from tensorflow.keras.utils import to_categorical\n",
        "from tensorflow.keras.models import Sequential\n",
        "from tensorflow.keras.layers import Dense\n",
        "from tensorflow.keras.optimizers import SGD\n",
        "\n",
        "# 互動設計用\n",
        "from ipywidgets import interact_manual"
      ],
      "execution_count": 2,
      "outputs": []
    },
    {
      "cell_type": "markdown",
      "metadata": {
        "id": "yUOFB_020Avg"
      },
      "source": [
        "## 2. 讀入 MNIST 數據庫\n",
        "\n",
        "![Jupyter 工作室 拷貝.001.jpeg](data:image/jpeg;base64,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)\n",
        "\n",
        "MNIST 是有一堆 0-9 的手寫數字圖庫。有 6 萬筆訓練資料, 1 萬筆測試資料。它是 \"Modified\" 版的 NIST 數據庫, 原來的版本有更多資料。這個 Modified 的版本是由 LeCun, Cortes, 及 Burges 等人做的。可以參考這個數據庫的[原始網頁](http://yann.lecun.com/exdb/mnist/)。\n",
        "\n",
        "MNIST 可以說是 Deep Learning 最有名的範例, 它被 Deep Learning 大師 Hinton 稱為「機器學習的果蠅」。"
      ]
    },
    {
      "cell_type": "markdown",
      "metadata": {
        "id": "wVSdolkn0Avg"
      },
      "source": [
        "### 2.1 由 Keras 讀入 MNIST"
      ]
    },
    {
      "cell_type": "markdown",
      "metadata": {
        "id": "b0UEBwg60Avg"
      },
      "source": [
        "Keras 很貼心的幫我們準備好 MNIST 數據庫, 我們可以這樣讀進來 (第一次要花點時間)。"
      ]
    },
    {
      "cell_type": "code",
      "metadata": {
        "colab": {
          "base_uri": "https://localhost:8080/"
        },
        "id": "LKuZWeVy0Avg",
        "outputId": "27418752-db60-4fe7-88fd-fe2e57a8ce77"
      },
      "source": [
        "(x_train, y_train), (x_test, y_test) = mnist.load_data()"
      ],
      "execution_count": 3,
      "outputs": [
        {
          "output_type": "stream",
          "name": "stdout",
          "text": [
            "Downloading data from https://storage.googleapis.com/tensorflow/tf-keras-datasets/mnist.npz\n",
            "11490434/11490434 [==============================] - 2s 0us/step\n"
          ]
        }
      ]
    },
    {
      "cell_type": "markdown",
      "metadata": {
        "id": "S9Pj2-M-0Avh"
      },
      "source": [
        "我們來看看訓練資料是不是 6 萬筆、測試資料是不是有 1 筆。"
      ]
    },
    {
      "cell_type": "code",
      "metadata": {
        "colab": {
          "base_uri": "https://localhost:8080/"
        },
        "id": "Z_8DkCJC0Avh",
        "outputId": "47c6a26e-ca31-4ed9-9710-48683dc2b34b"
      },
      "source": [
        "print(f'訓練資料總筆數為 {len(x_train)} 筆資料')\n",
        "print(f'測試資料總筆數為 {len(x_test)} 筆資料')"
      ],
      "execution_count": 4,
      "outputs": [
        {
          "output_type": "stream",
          "name": "stdout",
          "text": [
            "訓練資料總筆數為 60000 筆資料\n",
            "測試資料總筆數為 10000 筆資料\n"
          ]
        }
      ]
    },
    {
      "cell_type": "markdown",
      "metadata": {
        "id": "BnTUn8540Avi"
      },
      "source": [
        "### 2.2 數據庫的內容\n",
        "\n",
        "每筆輸入 (x) 就是一個手寫的 0-9 中一個數字的圖檔, 大小為 28x28。而輸出 (y) 當然就是「正確答案」。我們來看看編訓練資料的 x 輸入、輸出的部份分別長什麼樣子。"
      ]
    },
    {
      "cell_type": "code",
      "metadata": {
        "id": "l5RwWLHx0Avi"
      },
      "source": [
        "def show_xy(n=0):\n",
        "    ax = plt.gca()\n",
        "    X = x_train[n]\n",
        "    plt.xticks([], [])\n",
        "    plt.yticks([], [])\n",
        "    plt.imshow(X, cmap = 'Greys')\n",
        "    print(f'本資料 y 給定的答案為: {y_train[n]}')"
      ],
      "execution_count": 5,
      "outputs": []
    },
    {
      "cell_type": "code",
      "metadata": {
        "colab": {
          "base_uri": "https://localhost:8080/",
          "height": 81,
          "referenced_widgets": [
            "d75f02293e4b49258dca50ad6a9ca227",
            "8f415e7128e54ebc9b39aa5f1cb3fd93",
            "5be852ce0e204fb5b279cd5a976dd423",
            "db80133136dd410ea24ae0c3b94d1c6d",
            "8793ee54bf8349fdb06d5deb24331e15",
            "6fc7eba33bd249049864b7e2290efb63",
            "d709cce384d94eefb9ce3f45eff377c9",
            "39974c8f10b24607800c0afda068be51",
            "6cf91017288249f9b23eea4df9022020",
            "d2cc7c151dff492796edf9ce6e5726de"
          ]
        },
        "id": "RfBAIU280Avj",
        "outputId": "8937471e-d4dc-4c8d-ccb7-39a58c92dfd3"
      },
      "source": [
        "interact_manual(show_xy, n=(0,59999));"
      ],
      "execution_count": 6,
      "outputs": [
        {
          "output_type": "display_data",
          "data": {
            "text/plain": [
              "interactive(children=(IntSlider(value=0, description='n', max=59999), Button(description='Run Interact', style…"
            ],
            "application/vnd.jupyter.widget-view+json": {
              "version_major": 2,
              "version_minor": 0,
              "model_id": "d75f02293e4b49258dca50ad6a9ca227"
            }
          },
          "metadata": {}
        }
      ]
    },
    {
      "cell_type": "code",
      "metadata": {
        "id": "Us54Okz50Avj"
      },
      "source": [
        "def show_data(n = 100):\n",
        "    X = x_train[n]\n",
        "    print(X)"
      ],
      "execution_count": 7,
      "outputs": []
    },
    {
      "cell_type": "code",
      "metadata": {
        "colab": {
          "base_uri": "https://localhost:8080/",
          "height": 81,
          "referenced_widgets": [
            "191d038ff77d4f8f8263f61b52db7ee2",
            "2f73e680e943411eba3e44ecf45665f7",
            "97610b00183d436299906eef365224a1",
            "e42b8871f77446aa933e9be88d620d72",
            "833ed611a28041de8fcac85fa4bea5cc",
            "e971017663c246e2b58cc56edaa89e3d",
            "26a7680880944c25b32ef8de47ad5a80",
            "b897e7c6a2124449b4f4023fb2cdd13c",
            "1746823fcc3742e68629c704dc2e79c3",
            "154593a8537f4abdb28bec0949a53d00"
          ]
        },
        "id": "M11bhEOl0Avj",
        "outputId": "87efc42b-6bd1-4faa-ad1d-7a52f59c3c30"
      },
      "source": [
        "interact_manual(show_data, n=(0,59999));"
      ],
      "execution_count": 8,
      "outputs": [
        {
          "output_type": "display_data",
          "data": {
            "text/plain": [
              "interactive(children=(IntSlider(value=100, description='n', max=59999), Button(description='Run Interact', sty…"
            ],
            "application/vnd.jupyter.widget-view+json": {
              "version_major": 2,
              "version_minor": 0,
              "model_id": "191d038ff77d4f8f8263f61b52db7ee2"
            }
          },
          "metadata": {}
        }
      ]
    },
    {
      "cell_type": "markdown",
      "metadata": {
        "id": "fOPj5Mh50Avk"
      },
      "source": [
        "### 2.3 輸入格式整理\n",
        "\n",
        "我們現在要用標準神經網路學學手寫辨識。原來的每筆數據是個 28x28 的矩陣 (array), 但標準神經網路只吃「平平的」, 也就是每次要 28x28=784 長的向量。因此我們要用 `reshape` 調校一下。"
      ]
    },
    {
      "cell_type": "code",
      "metadata": {
        "id": "pT7oXt8B0Avk"
      },
      "source": [
        "x_train = x_train.reshape(60000, 784)/255\n",
        "x_test = x_test.reshape(10000, 784)/255"
      ],
      "execution_count": 9,
      "outputs": []
    },
    {
      "cell_type": "markdown",
      "metadata": {
        "id": "mQmajlcm0Avl"
      },
      "source": [
        "### 2.4 輸出格式整理\n",
        "![Jupyter 工作室 拷貝.001.jpeg](data:image/jpeg;base64,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)\n",
        "\n",
        "我們可能會想, 我們想學的函數是這樣的型式:\n",
        "\n",
        "$$\\hat{f} \\colon \\mathbb{R}^{784} \\to \\mathbb{R}$$\n",
        "\n",
        "其實這樣不太好! 為什麼呢? 比如說我們的輸入 x 是一張 0 的圖, 因為我們訓練的神經網路總會有點誤差, 所以可能會得到:\n",
        "\n",
        "$$\\hat{f}(x) = 0.5$$\n",
        "\n",
        "那這意思是有可能是 0, 也有可能是 1 嗎!!?? 可是 0 和 1 根本不像啊。換句話說分類的問題這樣做其實不合理!\n",
        "\n",
        "於是我們會做 \"1-hot enconding\", 也就是\n",
        "\n",
        "* 1 -> [0, 1, 0, 0, 0, 0, 0, 0, 0]\n",
        "* 5 -> [0, 0, 0, 0, 0, 1, 0, 0, 0]\n",
        "\n",
        "等等。因為分類問題基本上都要做這件事, Keras 其實已幫我們準備好套件!"
      ]
    },
    {
      "cell_type": "code",
      "metadata": {
        "id": "_i22oLVf0Avl"
      },
      "source": [
        "y_train = to_categorical(y_train, 10)\n",
        "y_test = to_categorical(y_test, 10)"
      ],
      "execution_count": 10,
      "outputs": []
    },
    {
      "cell_type": "markdown",
      "metadata": {
        "id": "y9mWLghi0Avl"
      },
      "source": [
        "我們來看看剛剛某號數據的答案。"
      ]
    },
    {
      "cell_type": "code",
      "metadata": {
        "colab": {
          "base_uri": "https://localhost:8080/"
        },
        "id": "SxkwtCy-0Avm",
        "outputId": "dd0f5e95-7f73-4e44-f375-0d0133772ff1"
      },
      "source": [
        "n = 87\n",
        "y_train[n]"
      ],
      "execution_count": 11,
      "outputs": [
        {
          "output_type": "execute_result",
          "data": {
            "text/plain": [
              "array([0., 0., 0., 0., 0., 0., 0., 0., 0., 1.], dtype=float32)"
            ]
          },
          "metadata": {},
          "execution_count": 11
        }
      ]
    },
    {
      "cell_type": "markdown",
      "metadata": {
        "id": "LBBc2NsJ0Avm"
      },
      "source": [
        "和我們想的一樣! 至此我們可以打造我們的神經網路了。"
      ]
    },
    {
      "cell_type": "markdown",
      "metadata": {
        "id": "4MDhWZk10Avm"
      },
      "source": [
        "## 3. 打造第一個神經網路\n",
        "\n",
        "我們決定了我們的函數是\n",
        "\n",
        "$$\\hat{f} \\colon \\mathbb{R}^{784} \\to \\mathbb{R}^{10}$$\n",
        "\n",
        "這個樣子。而我們又說第一次要用標準神網路試試, 所以我們只需要再決定要幾個隱藏層、每層要幾個神經元, 用哪個激發函數就可以了。"
      ]
    },
    {
      "cell_type": "markdown",
      "metadata": {
        "id": "UXydepP550U5"
      },
      "source": [
        "### 3.1 決定神經網路架構、讀入相關套件\n",
        "\n",
        "假如我們要用 ReLU 當激發函數, 要設計神經網路, 只差要指定多少個隱藏層、每層多少個神經元就好了!\n",
        "\n",
        "設計完了基本上就是告訴 TensorFlow, 我們的想法就可以了!"
      ]
    },
    {
      "cell_type": "code",
      "metadata": {
        "id": "Yq6sK9jo5y8l"
      },
      "source": [
        "#@title 設計你的神經網路\n",
        "隱藏層數 = 3 #@param{type:\"integer\"}\n",
        "神經元1 =  0#@param{type:\"integer\"}\n",
        "神經元2 = 0 #@param{type:\"integer\"}\n",
        "神經元3 = 0 #@param{type:\"integer\"}\n"
      ],
      "execution_count": 12,
      "outputs": []
    },
    {
      "cell_type": "markdown",
      "metadata": {
        "id": "m41UZZdF0Avm"
      },
      "source": [
        "### 3.2 建構我們的神經網路\n",
        "\n",
        "和以前做迴歸或機器學習一樣, 我們就打開個「函數學習機」。標準一層一層傳遞的神經網路叫 `Sequential`, 於是我們打開一個空的神經網路。"
      ]
    },
    {
      "cell_type": "code",
      "metadata": {
        "id": "F_fx6jw80Avm"
      },
      "source": [
        "model = Sequential()"
      ],
      "execution_count": 13,
      "outputs": []
    },
    {
      "cell_type": "markdown",
      "metadata": {
        "id": "tm9L8SfT0Avn"
      },
      "source": [
        "我們每次用 `add` 去加一層, 從第一個隱藏層開始。而第一個隱藏層因為 TensorFlow 當然猜不到輸入有 784 個 features, 所以我們要告訴它。"
      ]
    },
    {
      "cell_type": "code",
      "metadata": {
        "id": "wrBnZ3Xw0Avn"
      },
      "source": [
        "model.add(Dense(20, input_dim=784, activation='relu'))"
      ],
      "execution_count": 14,
      "outputs": []
    },
    {
      "cell_type": "markdown",
      "metadata": {
        "id": "sbcJBOtk0Avn"
      },
      "source": [
        "第二層開始就不用再說明輸入神經元個數 (因為就是前一層神經元數)。"
      ]
    },
    {
      "cell_type": "code",
      "metadata": {
        "id": "4UtBjkQh0Avn"
      },
      "source": [
        "model.add(Dense(20, activation='relu'))"
      ],
      "execution_count": 15,
      "outputs": []
    },
    {
      "cell_type": "code",
      "metadata": {
        "id": "v3pVDFVR0Avn"
      },
      "source": [
        "model.add(Dense(20, activation='relu'))"
      ],
      "execution_count": 16,
      "outputs": []
    },
    {
      "cell_type": "markdown",
      "metadata": {
        "id": "d1cfWRkD0Avn"
      },
      "source": [
        "輸出有 10 個數字, 所以輸出層的神經元是 10 個! 而如果我們的網路輸出是\n",
        "\n",
        "$$(y_1, y_2, \\ldots, y_{10})$$\n",
        "\n",
        "我們還希望\n",
        "\n",
        "$$\\sum_{i=1}^{10} y_i = 1$$\n",
        "\n",
        "這可能嗎, 結果是很容易, 就用 `softmax` 當激發函數就可以!!"
      ]
    },
    {
      "cell_type": "code",
      "metadata": {
        "id": "H6P7C6Nk0Avo"
      },
      "source": [
        "model.add(Dense(10, activation='softmax'))"
      ],
      "execution_count": 17,
      "outputs": []
    },
    {
      "cell_type": "markdown",
      "metadata": {
        "id": "kjEWy_q10Avo"
      },
      "source": [
        "至此我們的第一個神經網路就建好了!"
      ]
    },
    {
      "cell_type": "markdown",
      "metadata": {
        "id": "5znBU0DV0Avo"
      },
      "source": [
        "### 3.3 組裝\n",
        "\n",
        "和之前比較不一樣的是我們還要做 `compile` 才正式把我們的神經網路建好。你可以發現我們還需要做幾件事:\n",
        "\n",
        "* 決定使用的 loss function, 一般是 `mse`\n",
        "* 決定 optimizer, 我們用標準的 SGD\n",
        "* 設 learning rate\n",
        "\n",
        "為了一邊訓練一邊看到結果, 我們加設\n",
        "\n",
        "    metrics=['accuracy']\n",
        "    \n",
        "本行基本上和我們的神經網路功能沒有什麼關係。"
      ]
    },
    {
      "cell_type": "code",
      "metadata": {
        "id": "lGLgh8Gz0Avo"
      },
      "source": [
        "model.compile(loss='mse', optimizer=SGD(learning_rate=0.087), metrics=['accuracy'])"
      ],
      "execution_count": 18,
      "outputs": []
    },
    {
      "cell_type": "markdown",
      "metadata": {
        "id": "xf9ykvbJ0Avo"
      },
      "source": [
        "## 4. 檢視我們的神經網路"
      ]
    },
    {
      "cell_type": "markdown",
      "metadata": {
        "id": "UPdrQNHV0Avo"
      },
      "source": [
        "我們可以檢視我們神經網路的架構, 可以確認一下是不是和我們想像的一樣。"
      ]
    },
    {
      "cell_type": "markdown",
      "metadata": {
        "id": "kV3613iy0Avp"
      },
      "source": [
        "### 4.1 看 model 的 summary"
      ]
    },
    {
      "cell_type": "code",
      "metadata": {
        "colab": {
          "base_uri": "https://localhost:8080/"
        },
        "id": "0yJJowZE0Avp",
        "outputId": "b27086d1-4bcd-472e-e05e-8c7580cd2066"
      },
      "source": [
        "model.summary()"
      ],
      "execution_count": 19,
      "outputs": [
        {
          "output_type": "stream",
          "name": "stdout",
          "text": [
            "Model: \"sequential\"\n",
            "_________________________________________________________________\n",
            " Layer (type)                Output Shape              Param #   \n",
            "=================================================================\n",
            " dense (Dense)               (None, 20)                15700     \n",
            "                                                                 \n",
            " dense_1 (Dense)             (None, 20)                420       \n",
            "                                                                 \n",
            " dense_2 (Dense)             (None, 20)                420       \n",
            "                                                                 \n",
            " dense_3 (Dense)             (None, 10)                210       \n",
            "                                                                 \n",
            "=================================================================\n",
            "Total params: 16750 (65.43 KB)\n",
            "Trainable params: 16750 (65.43 KB)\n",
            "Non-trainable params: 0 (0.00 Byte)\n",
            "_________________________________________________________________\n"
          ]
        }
      ]
    },
    {
      "cell_type": "markdown",
      "metadata": {
        "id": "3FvAWE4h0Avp"
      },
      "source": [
        "很快算算參數數目和我們想像是否是一樣的!"
      ]
    },
    {
      "cell_type": "code",
      "metadata": {
        "id": "saGst5Jh0Avp"
      },
      "source": [],
      "execution_count": 19,
      "outputs": []
    },
    {
      "cell_type": "markdown",
      "metadata": {
        "id": "R5VHPpfd0Avp"
      },
      "source": [
        "## 5. 訓練你的第一個神經網路\n",
        "\n",
        "恭喜! 我們完成了第一個神經網路。現在要訓練的時候, 你會發現不是像以前沒頭沒腦把訓練資料送進去就好。這裡我們還有兩件事要決定:\n",
        "\n",
        "* 一次要訓練幾筆資料 (`batch_size`), 我們就 100 筆調一次參數好了\n",
        "* 這 6 萬筆資料一共要訓練幾次 (`epochs`), 我們訓練個 10 次試試\n",
        "\n",
        "於是最精彩的就來了。你要有等待的心理準備..."
      ]
    },
    {
      "cell_type": "code",
      "metadata": {
        "colab": {
          "base_uri": "https://localhost:8080/"
        },
        "id": "1jwuUx4a0Avq",
        "outputId": "7c664969-d7be-48b5-de1a-57f6db19d07f"
      },
      "source": [
        "model.fit(x_train, y_train, batch_size=100, epochs=10)"
      ],
      "execution_count": 20,
      "outputs": [
        {
          "output_type": "stream",
          "name": "stdout",
          "text": [
            "Epoch 1/10\n",
            "600/600 [==============================] - 9s 5ms/step - loss: 0.0891 - accuracy: 0.1645\n",
            "Epoch 2/10\n",
            "600/600 [==============================] - 2s 3ms/step - loss: 0.0860 - accuracy: 0.3095\n",
            "Epoch 3/10\n",
            "600/600 [==============================] - 2s 3ms/step - loss: 0.0758 - accuracy: 0.4489\n",
            "Epoch 4/10\n",
            "600/600 [==============================] - 2s 3ms/step - loss: 0.0555 - accuracy: 0.6170\n",
            "Epoch 5/10\n",
            "600/600 [==============================] - 2s 3ms/step - loss: 0.0369 - accuracy: 0.7638\n",
            "Epoch 6/10\n",
            "600/600 [==============================] - 2s 3ms/step - loss: 0.0272 - accuracy: 0.8270\n",
            "Epoch 7/10\n",
            "600/600 [==============================] - 3s 5ms/step - loss: 0.0226 - accuracy: 0.8544\n",
            "Epoch 8/10\n",
            "600/600 [==============================] - 3s 5ms/step - loss: 0.0201 - accuracy: 0.8699\n",
            "Epoch 9/10\n",
            "600/600 [==============================] - 2s 4ms/step - loss: 0.0183 - accuracy: 0.8816\n",
            "Epoch 10/10\n",
            "600/600 [==============================] - 2s 3ms/step - loss: 0.0169 - accuracy: 0.8911\n"
          ]
        },
        {
          "output_type": "execute_result",
          "data": {
            "text/plain": [
              "<keras.src.callbacks.History at 0x7d8e760d9030>"
            ]
          },
          "metadata": {},
          "execution_count": 20
        }
      ]
    },
    {
      "cell_type": "markdown",
      "metadata": {
        "id": "-6ykAvga0Avq"
      },
      "source": [
        "## 6. 試用我們的結果\n",
        "\n",
        "我們來用比較炫的方式來看看可愛的神經網路學習成果。對指令有問題可以參考《少年Py的大冒險：成為Python數據分析達人的第一門課》。"
      ]
    },
    {
      "cell_type": "code",
      "metadata": {
        "colab": {
          "base_uri": "https://localhost:8080/"
        },
        "id": "I9c1E_Cj0Avq",
        "outputId": "8ecae96e-f61a-4c5a-9e61-30aaa0ad4458"
      },
      "source": [
        "loss, acc = model.evaluate(x_test, y_test)"
      ],
      "execution_count": 21,
      "outputs": [
        {
          "output_type": "stream",
          "name": "stdout",
          "text": [
            "313/313 [==============================] - 1s 3ms/step - loss: 0.0156 - accuracy: 0.8997\n"
          ]
        }
      ]
    },
    {
      "cell_type": "code",
      "metadata": {
        "colab": {
          "base_uri": "https://localhost:8080/"
        },
        "id": "Z5XOR_Pd0Avq",
        "outputId": "8c2764fc-13c3-4290-b086-d2bb0355eabc"
      },
      "source": [
        "print(f\"測試資料正確率 {acc*100:.2f}%\")"
      ],
      "execution_count": 22,
      "outputs": [
        {
          "output_type": "stream",
          "name": "stdout",
          "text": [
            "測試資料正確率 89.97%\n"
          ]
        }
      ]
    },
    {
      "cell_type": "code",
      "metadata": {
        "id": "fLprvVqc0Avr"
      },
      "source": [
        "from ipywidgets import interact_manual"
      ],
      "execution_count": 23,
      "outputs": []
    },
    {
      "cell_type": "markdown",
      "metadata": {
        "id": "XTog-oR90Avr"
      },
      "source": [
        "我們 \"predict\" 放的是我們神經網路的學習結果。做完之後用 argmax 找到數值最大的那一項。"
      ]
    },
    {
      "cell_type": "code",
      "metadata": {
        "id": "6MlKktZ50Avr",
        "colab": {
          "base_uri": "https://localhost:8080/"
        },
        "outputId": "2a91f142-700d-45a3-a835-c4e84abf99ee"
      },
      "source": [
        "predict = np.argmax(model.predict(x_test), axis=-1)"
      ],
      "execution_count": 24,
      "outputs": [
        {
          "output_type": "stream",
          "name": "stdout",
          "text": [
            "313/313 [==============================] - 1s 2ms/step\n"
          ]
        }
      ]
    },
    {
      "cell_type": "code",
      "metadata": {
        "colab": {
          "base_uri": "https://localhost:8080/"
        },
        "id": "9R_o6HD_0Avr",
        "outputId": "7d6cd0b4-173c-498f-f00f-0ec803b0bc58"
      },
      "source": [
        "predict"
      ],
      "execution_count": 25,
      "outputs": [
        {
          "output_type": "execute_result",
          "data": {
            "text/plain": [
              "array([7, 2, 1, ..., 4, 8, 6])"
            ]
          },
          "metadata": {},
          "execution_count": 25
        }
      ]
    },
    {
      "cell_type": "markdown",
      "metadata": {
        "id": "2RX6YjUj0Avr"
      },
      "source": [
        "不要忘了我們的 `x_test` 每筆資料已經換成 784 維的向量, 我們要整型回 28x28 的矩陣才能當成圖形顯示出來!"
      ]
    },
    {
      "cell_type": "code",
      "metadata": {
        "id": "v5i4Cxpo0Avs"
      },
      "source": [
        "def test(測試編號):\n",
        "    plt.imshow(x_test[測試編號].reshape(28,28), cmap='Greys')\n",
        "    print('神經網路判斷為:', predict[測試編號])"
      ],
      "execution_count": 26,
      "outputs": []
    },
    {
      "cell_type": "code",
      "metadata": {
        "colab": {
          "base_uri": "https://localhost:8080/",
          "height": 448
        },
        "id": "n5ia2B1u0Avs",
        "outputId": "35b3e06c-f942-4b45-adb1-7d3bb66a2beb"
      },
      "source": [
        "test(87)"
      ],
      "execution_count": 27,
      "outputs": [
        {
          "output_type": "stream",
          "name": "stdout",
          "text": [
            "神經網路判斷為: 3\n"
          ]
        },
        {
          "output_type": "display_data",
          "data": {
            "text/plain": [
              "<Figure size 640x480 with 1 Axes>"
            ],
            "image/png": "[encoded data removed]"
          },
          "metadata": {}
        }
      ]
    },
    {
      "cell_type": "code",
      "metadata": {
        "colab": {
          "base_uri": "https://localhost:8080/",
          "height": 512,
          "referenced_widgets": [
            "a7296c50542c46118a5606afdd4c2bb9",
            "6ac9086eaf6d451f921523d3682c367c",
            "a0534844909a4adfbeaf64d8b6652eac",
            "977f10c67ccc43b09c29c55fe1ed4ed7",
            "de3b02b1fa6f4752832bccc49374c302",
            "1f159bc912f54f4985abfb45eb907140",
            "1564ff52b16b4d12b6ceec9b1430ee39",
            "7144d5640f194e3c951d0104c0c64a03",
            "6a0dcdd8ab9f42a686c2120c2c12bf56",
            "109265e6c1fd4817b7a54e6de36f9a90"
          ]
        },
        "id": "-KT1EFNc0Avs",
        "outputId": "2c53a287-06e7-41ba-94bb-429d89118031"
      },
      "source": [
        "interact_manual(test, 測試編號=(0, 9999));"
      ],
      "execution_count": 28,
      "outputs": [
        {
          "output_type": "display_data",
          "data": {
            "text/plain": [
              "interactive(children=(IntSlider(value=4999, description='測試編號', max=9999), Button(description='Run Interact', …"
            ],
            "application/vnd.jupyter.widget-view+json": {
              "version_major": 2,
              "version_minor": 0,
              "model_id": "a7296c50542c46118a5606afdd4c2bb9"
            }
          },
          "metadata": {}
        },
        {
          "output_type": "display_data",
          "data": {
            "text/plain": [
              "<Figure size 640x480 with 1 Axes>"
            ],
            "image/png": "[encoded data removed]"
          },
          "metadata": {}
        }
      ]
    },
    {
      "cell_type": "markdown",
      "metadata": {
        "id": "8JjaNcvN0Avs"
      },
      "source": [
        "到底測試資料總的狀況如何呢? 我們可以給我們神經網路「總評量」。"
      ]
    },
    {
      "cell_type": "code",
      "metadata": {
        "colab": {
          "base_uri": "https://localhost:8080/"
        },
        "id": "cpilhXP00Avs",
        "outputId": "80f1a0c1-f677-4c93-e144-ae0a38a05468"
      },
      "source": [
        "score = model.evaluate(x_test, y_test)"
      ],
      "execution_count": 29,
      "outputs": [
        {
          "output_type": "stream",
          "name": "stdout",
          "text": [
            "313/313 [==============================] - 1s 2ms/step - loss: 0.0156 - accuracy: 0.8997\n"
          ]
        }
      ]
    },
    {
      "cell_type": "code",
      "metadata": {
        "colab": {
          "base_uri": "https://localhost:8080/"
        },
        "id": "GTtgPGrF0Avt",
        "outputId": "43632be0-ac31-4387-ef63-3c4ec1efb8a1"
      },
      "source": [
        "print('loss:', score[0])\n",
        "print('正確率', score[1])"
      ],
      "execution_count": 30,
      "outputs": [
        {
          "output_type": "stream",
          "name": "stdout",
          "text": [
            "loss: 0.01560008805245161\n",
            "正確率 0.8996999859809875\n"
          ]
        }
      ]
    },
    {
      "cell_type": "markdown",
      "metadata": {
        "id": "FWK0fgKgCHa7"
      },
      "source": [
        "### 7. 用 Gradio 來展示"
      ]
    },
    {
      "cell_type": "code",
      "metadata": {
        "id": "8RhtNP6NJSxS"
      },
      "source": [
        "import gradio as gr"
      ],
      "execution_count": 31,
      "outputs": []
    },
    {
      "cell_type": "code",
      "metadata": {
        "id": "z15ViPBzJU6D"
      },
      "source": [
        "def recognize_digit(img):\n",
        "  img = img.reshape(1,784)\n",
        "  prediction = model.predict(img).flatten()\n",
        "  labels = list('0123456789')\n",
        "  return {labels[i]: float(prediction[i]) for i in range(10)}"
      ],
      "execution_count": 32,
      "outputs": []
    },
    {
      "cell_type": "code",
      "metadata": {
        "id": "ITOFueb5KSBD",
        "colab": {
          "base_uri": "https://localhost:8080/",
          "height": 647
        },
        "outputId": "6f9ad537-e9dc-44d6-b763-5022e8935e2a"
      },
      "source": [
        "gr.Interface(fn=recognize_digit, inputs=\"sketchpad\", outputs=\"label\").launch(share=True,\n",
        "                                                                             debug=True)"
      ],
      "execution_count": 36,
      "outputs": [
        {
          "output_type": "stream",
          "name": "stdout",
          "text": [
            "Colab notebook detected. This cell will run indefinitely so that you can see errors and logs. To turn off, set debug=False in launch().\n",
            "Running on public URL: https://5fd54ac1b42ab99d52.gradio.live\n",
            "\n",
            "This share link expires in 72 hours. For free permanent hosting and GPU upgrades, run `gradio deploy` from Terminal to deploy to Spaces (https://huggingface.co/spaces)\n"
          ]
        },
        {
          "output_type": "display_data",
          "data": {
            "text/plain": [
              "<IPython.core.display.HTML object>"
            ],
            "text/html": [
              "<div><iframe src=\"https://5fd54ac1b42ab99d52.gradio.live\" width=\"100%\" height=\"500\" allow=\"autoplay; camera; microphone; clipboard-read; clipboard-write;\" frameborder=\"0\" allowfullscreen></iframe></div>"
            ]
          },
          "metadata": {}
        },
        {
          "output_type": "stream",
          "name": "stdout",
          "text": [
            "Keyboard interruption in main thread... closing server.\n",
            "Killing tunnel 127.0.0.1:7862 <> https://5fd54ac1b42ab99d52.gradio.live\n"
          ]
        },
        {
          "output_type": "execute_result",
          "data": {
            "text/plain": []
          },
          "metadata": {},
          "execution_count": 36
        }
      ]
    },
    {
      "cell_type": "code",
      "metadata": {
        "id": "g9CzeInVK_Eh"
      },
      "source": [],
      "execution_count": null,
      "outputs": []
    }
  ]
}